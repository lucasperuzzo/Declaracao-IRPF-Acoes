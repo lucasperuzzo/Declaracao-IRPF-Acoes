{
 "cells": [
  {
   "cell_type": "markdown",
   "id": "3b6d9e5a",
   "metadata": {},
   "source": [
    "# DECLARAÇÃO DE IMPOSTO DE RENDA PARA AÇÕES\n",
    "**ESSA DECLARAÇÃO É PARA:**  \n",
    "- AÇÕES NEGOCIADAS NA B3\n",
    "- APENAS SWING TRADE\n",
    "- INVESTIDORES QUE ENTENDAM MINIMAMENTE DE PYTHON E PANDAS \n",
    "\n",
    "## COMO UTILIZAR:\n",
    "- 1) Acessar a área do investidor em https://www.b3.com.br/\n",
    "- 2) No menu acessar Extratos\n",
    "- 3) Localizar as abas \"Movimentação\", \"Negociação\" e \"Ofertas Públicas\"\n",
    "- 3) Filtrar cada uma das abas citadas entre os dias 01/01/(ano de cálculo) ao dia 31/12/(ano de cálculo)\n",
    "- 4) No canto inferior direito de cada aba filtrada, clicar no botão amarelo de download e selecionar \"Excel\"\n",
    "- 5) Após o download dos 3 relátorios, inclui-los na pasta \"relatorios_b3\" deste projeto\n",
    "- 6) Alterar as variáveis abaixo com os nomes dos relatórios inseridos na pasta\n",
    "- 7) É necessário que se tenha as posições do ano anterior ao ano de declaração no arquivo saldo_acoes_AAAA.xlsx na pasta saldo_anos_anteriores\n",
    "- 8) Caso seja o primeiro ano de investimento em ações, crie um arquivo sem dados, apenas com as colunas: \"Instituição\", \"Código de Negociação\", \"Quantidade\", \"Preço\" e \"Valor\" com o nome saldo_acoes_AAAA.xlsx, onde AAAA é o ano anterior ao ano do cálculo da declaração. Exemplo, se a declaração é de 2021, o arquivo será \"saldo_acoes_2020.xlsx\"\n",
    "- 9) Caso o investidor já tenha investimentos no ano anterior, deve-se criar o mesmo arquivo e preencher com as posições da declaração antiga\n",
    "\n",
    "\n",
    "**O usuário se responsabiliza pela utilização e pela declaração gerada por esse algoritmo**"
   ]
  },
  {
   "cell_type": "code",
   "execution_count": 1,
   "id": "32ddc55c",
   "metadata": {},
   "outputs": [],
   "source": [
    "from scripts.declaracao import DeclaraImpostoAcoes\n",
    "\n",
    "relatorio_negociacoes = \"negociacao-2021.xlsx\"\n",
    "relatorio_movimentacoes = \"movimentacao-2021.xlsx\"\n",
    "relatorio_ipos = \"ofertas-publicas-2021.xlsx\"\n",
    "ano = 2021\n",
    "\n",
    "declaracao2021 = DeclaraImpostoAcoes(ano, relatorio_negociacoes, relatorio_movimentacoes, relatorio_ipos)"
   ]
  },
  {
   "cell_type": "markdown",
   "id": "eb70184a",
   "metadata": {},
   "source": [
    "# EVENTOS EXÓTICOS\n",
    "\n",
    "**Nessa seção é necessário conhecimento em python e pandas para analisar os eventos que não podem ser tratados automaticamente** \n",
    "\n",
    "- Atualização\n",
    "- Cisão"
   ]
  },
  {
   "cell_type": "code",
   "execution_count": 2,
   "id": "3010f735",
   "metadata": {},
   "outputs": [
    {
     "data": {
      "text/html": [
       "<div>\n",
       "<style scoped>\n",
       "    .dataframe tbody tr th:only-of-type {\n",
       "        vertical-align: middle;\n",
       "    }\n",
       "\n",
       "    .dataframe tbody tr th {\n",
       "        vertical-align: top;\n",
       "    }\n",
       "\n",
       "    .dataframe thead th {\n",
       "        text-align: right;\n",
       "    }\n",
       "</style>\n",
       "<table border=\"1\" class=\"dataframe\">\n",
       "  <thead>\n",
       "    <tr style=\"text-align: right;\">\n",
       "      <th></th>\n",
       "      <th>Instituição</th>\n",
       "      <th>Data do Negócio</th>\n",
       "      <th>Tipo de Movimentação</th>\n",
       "      <th>Código de Negociação</th>\n",
       "      <th>Quantidade</th>\n",
       "      <th>Preço</th>\n",
       "      <th>Valor</th>\n",
       "    </tr>\n",
       "  </thead>\n",
       "  <tbody>\n",
       "    <tr>\n",
       "      <th>43</th>\n",
       "      <td>CORRETORA AAA</td>\n",
       "      <td>2021-10-19</td>\n",
       "      <td>Cisão</td>\n",
       "      <td>SANB11</td>\n",
       "      <td>100</td>\n",
       "      <td>0.0</td>\n",
       "      <td>0.0</td>\n",
       "    </tr>\n",
       "    <tr>\n",
       "      <th>44</th>\n",
       "      <td>CORRETORA AAA</td>\n",
       "      <td>2021-10-19</td>\n",
       "      <td>Cisão</td>\n",
       "      <td>GETT11</td>\n",
       "      <td>50</td>\n",
       "      <td>0.0</td>\n",
       "      <td>0.0</td>\n",
       "    </tr>\n",
       "    <tr>\n",
       "      <th>48</th>\n",
       "      <td>CORRETORA AAA</td>\n",
       "      <td>2021-11-23</td>\n",
       "      <td>Atualização</td>\n",
       "      <td>IGTI3</td>\n",
       "      <td>100</td>\n",
       "      <td>0.0</td>\n",
       "      <td>0.0</td>\n",
       "    </tr>\n",
       "    <tr>\n",
       "      <th>54</th>\n",
       "      <td>CORRETORA AAA</td>\n",
       "      <td>2021-12-07</td>\n",
       "      <td>Atualização</td>\n",
       "      <td>NTCO3</td>\n",
       "      <td>100</td>\n",
       "      <td>0.0</td>\n",
       "      <td>0.0</td>\n",
       "    </tr>\n",
       "  </tbody>\n",
       "</table>\n",
       "</div>"
      ],
      "text/plain": [
       "      Instituição Data do Negócio Tipo de Movimentação Código de Negociação  \\\n",
       "43  CORRETORA AAA      2021-10-19                Cisão               SANB11   \n",
       "44  CORRETORA AAA      2021-10-19                Cisão               GETT11   \n",
       "48  CORRETORA AAA      2021-11-23          Atualização                IGTI3   \n",
       "54  CORRETORA AAA      2021-12-07          Atualização                NTCO3   \n",
       "\n",
       "    Quantidade  Preço  Valor  \n",
       "43         100    0.0    0.0  \n",
       "44          50    0.0    0.0  \n",
       "48         100    0.0    0.0  \n",
       "54         100    0.0    0.0  "
      ]
     },
     "execution_count": 2,
     "metadata": {},
     "output_type": "execute_result"
    }
   ],
   "source": [
    "declaracao2021.eventosExoticos()"
   ]
  },
  {
   "cell_type": "markdown",
   "id": "bbc15d5a",
   "metadata": {},
   "source": [
    "**Aqui é necessário verificar o que aconteceu no evento exótico**\n",
    "- Verificar as colunas 'Tipo de Movimentação' e 'Código de Negociação'\n",
    "\n",
    "Nesse exemplo, eu procurei saber sobre a Cisão de SANB11 e GETT11 e descobri GETT11 é uma empresa do grupo da SANB11 e começou a ser negociada na bolsa de forma separada, então todos os acionistas de SANB11 receberam alguma quantidade de ações de GETT11. Portanto todas as ações de GETT11 podem ser consideradas como compra de preço médio zero.  \n",
    "\n",
    "Atualização de IGTI3: por uma questão de reestruturação do grupo, o ticker foi alterado de JPSA3 para IGTI3  \n",
    "\n",
    "Atualização de NTCO3: nada relevante que altere o cálculo de imposto de renda\n",
    "\n",
    "Então minhas ações nesse exemplo serão:\n",
    "- Alterar o 'Tipo de Movimentação' da 'GETT11' para 'Compra'\n",
    "- Alterar o 'Código de Negociação' de 'JPSA3' para 'IGTI3', para que os cálculos sejam feitos todos com o novo ticker"
   ]
  },
  {
   "cell_type": "markdown",
   "id": "1bf3ea0e",
   "metadata": {},
   "source": [
    "**Tranforma a Cisão da GETT11 em Compra**"
   ]
  },
  {
   "cell_type": "code",
   "execution_count": 3,
   "id": "37b23ddb",
   "metadata": {},
   "outputs": [],
   "source": [
    "filtro_gett11 = (declaracao2021.dados['Tipo de Movimentação']=='Cisão') & (declaracao2021.dados['Código de Negociação']=='GETT11')\n",
    "declaracao2021.trataEventosExoticos(filtro_gett11, 'Tipo de Movimentação', 'Compra')"
   ]
  },
  {
   "cell_type": "markdown",
   "id": "806136b3",
   "metadata": {},
   "source": [
    "**Troca o ticker JPSA3 para IGTI3**"
   ]
  },
  {
   "cell_type": "code",
   "execution_count": 4,
   "id": "0752e059",
   "metadata": {},
   "outputs": [],
   "source": [
    "filtro_jpsa3 = declaracao2021.dados['Código de Negociação']=='JPSA3'\n",
    "declaracao2021.trataEventosExoticos(filtro_jpsa3, 'Código de Negociação', 'IGTI3')"
   ]
  },
  {
   "cell_type": "markdown",
   "id": "7b07609b",
   "metadata": {},
   "source": [
    "# BENS E DIREITOS"
   ]
  },
  {
   "cell_type": "code",
   "execution_count": 5,
   "id": "227b8c82",
   "metadata": {
    "scrolled": false
   },
   "outputs": [
    {
     "name": "stdout",
     "output_type": "stream",
     "text": [
      "\n",
      "\n",
      "\n",
      "CORRETORA AAA \n",
      "\n",
      "00.001.180/0001-26\n",
      "50 ações da empresa CENTRAIS ELET BRAS S.A. – ELETROBRAS (ELET3) - Custódia: CORRETORA AAA\n",
      "R$ 50,02 \n",
      "\n",
      "90.400.888/0001-42\n",
      "100 ações da empresa BCO SANTANDER (BRASIL) S.A. (SANB11) - Custódia: CORRETORA AAA\n",
      "R$ 100,03 \n",
      "\n",
      "32.785.497/0001-97\n",
      "200 ações da empresa NATURA &CO HOLDING S.A. (NTCO3) - Custódia: CORRETORA AAA\n",
      "R$ 200,06 \n",
      "\n",
      "92.754.738/0001-62\n",
      "160 ações da empresa LOJAS RENNER S.A. (LREN3) - Custódia: CORRETORA AAA\n",
      "R$ 150,05 \n",
      "\n",
      "60.543.816/0001-93\n",
      "400 ações da empresa IGUATEMI S.A. (IGTI3) - Custódia: CORRETORA AAA\n",
      "R$ 100,03 \n",
      "\n",
      "12.648.266/0001-24\n",
      "100 ações da empresa AMBIPAR PARTICIPACOES E EMPREENDIMENTOS S/A (AMBP3) - Custódia: CORRETORA AAA\n",
      "R$ 100,03 \n",
      "\n",
      "10.440.482/0001-54\n",
      "50 ações da empresa GETNET ADQUIRENCIA E SERVICOS PARA MEIOS DE PAGAMENTO S.A. (GETT11) - Custódia: CORRETORA AAA\n",
      "R$ 0,0 \n",
      "\n",
      "\n",
      "\n",
      "\n",
      "\n",
      "CORRETORA BBB \n",
      "\n",
      "33.453.598/0001-23\n",
      "100 ações da empresa RAIZEN S.A. (RAIZ4) - Custódia: CORRETORA BBB\n",
      "R$ 100,03 \n",
      "\n",
      "12.648.266/0001-24\n",
      "100 ações da empresa AMBIPAR PARTICIPACOES E EMPREENDIMENTOS S/A (AMBP3) - Custódia: CORRETORA BBB\n",
      "R$ 150,05 \n",
      "\n",
      "\n",
      "O arquivo \"saldo_acoes_2021.xlsx\" com o saldo do ano 2021 foi criado na pasta \"C:\\Users\\lucas\\GitHub\\Portfolio\\Declaracao-IRPF-Acoes\\saldo_anos_anteriores\\\"! Mantenha-o nessa pasta para utilizá-lo novamente no próximo ano.\n"
     ]
    }
   ],
   "source": [
    "declaracao2021.bensDireitos()"
   ]
  },
  {
   "cell_type": "markdown",
   "id": "7fcbbe21",
   "metadata": {},
   "source": [
    "**No exemplo acima a cissão do Banco Santander gerando 50 ações da GETNET resultou na posse de 50 ações dessa empresa com custo de compra de R$0,00. Nesse caso é só não declarar essas 50 ações, mantêm-as no arquivo de saldo_acoes, para quando houver a venda dessas ações, elas serem contabilizadas como lucro sobre operações.**\n",
    "\n",
    "**Se achar que essa interpretação está incorreta, recalcule manualmente o preço médio das ações do Santander e da GETNET e preencha o arquivo saldo_acoes gerado com os valores calculados** "
   ]
  },
  {
   "cell_type": "markdown",
   "id": "cd4489b7",
   "metadata": {},
   "source": [
    "# RENDIMENTOS COM VENDAS DE AÇÕES"
   ]
  },
  {
   "cell_type": "markdown",
   "id": "c4f3dcb7",
   "metadata": {},
   "source": [
    "### LUCRO ISENTO POR MÊS"
   ]
  },
  {
   "cell_type": "code",
   "execution_count": 6,
   "id": "4c45730f",
   "metadata": {},
   "outputs": [
    {
     "data": {
      "text/html": [
       "<div>\n",
       "<style scoped>\n",
       "    .dataframe tbody tr th:only-of-type {\n",
       "        vertical-align: middle;\n",
       "    }\n",
       "\n",
       "    .dataframe tbody tr th {\n",
       "        vertical-align: top;\n",
       "    }\n",
       "\n",
       "    .dataframe thead th {\n",
       "        text-align: right;\n",
       "    }\n",
       "</style>\n",
       "<table border=\"1\" class=\"dataframe\">\n",
       "  <thead>\n",
       "    <tr style=\"text-align: right;\">\n",
       "      <th></th>\n",
       "      <th>Total de vendas</th>\n",
       "      <th>Lucro</th>\n",
       "    </tr>\n",
       "    <tr>\n",
       "      <th>Mês</th>\n",
       "      <th></th>\n",
       "      <th></th>\n",
       "    </tr>\n",
       "  </thead>\n",
       "  <tbody>\n",
       "    <tr>\n",
       "      <th>8</th>\n",
       "      <td>44.9865</td>\n",
       "      <td>14.976751</td>\n",
       "    </tr>\n",
       "    <tr>\n",
       "      <th>9</th>\n",
       "      <td>99.9700</td>\n",
       "      <td>49.952502</td>\n",
       "    </tr>\n",
       "  </tbody>\n",
       "</table>\n",
       "</div>"
      ],
      "text/plain": [
       "     Total de vendas      Lucro\n",
       "Mês                            \n",
       "8            44.9865  14.976751\n",
       "9            99.9700  49.952502"
      ]
     },
     "execution_count": 6,
     "metadata": {},
     "output_type": "execute_result"
    }
   ],
   "source": [
    "declaracao2021.calculaRendimentos('lucro_isento')"
   ]
  },
  {
   "cell_type": "markdown",
   "id": "bc34811f",
   "metadata": {},
   "source": [
    "### LUCRO ISENTO NO ANO"
   ]
  },
  {
   "cell_type": "code",
   "execution_count": 7,
   "id": "69100a69",
   "metadata": {},
   "outputs": [
    {
     "data": {
      "text/html": [
       "<div>\n",
       "<style scoped>\n",
       "    .dataframe tbody tr th:only-of-type {\n",
       "        vertical-align: middle;\n",
       "    }\n",
       "\n",
       "    .dataframe tbody tr th {\n",
       "        vertical-align: top;\n",
       "    }\n",
       "\n",
       "    .dataframe thead th {\n",
       "        text-align: right;\n",
       "    }\n",
       "</style>\n",
       "<table border=\"1\" class=\"dataframe\">\n",
       "  <thead>\n",
       "    <tr style=\"text-align: right;\">\n",
       "      <th></th>\n",
       "      <th>2021</th>\n",
       "    </tr>\n",
       "  </thead>\n",
       "  <tbody>\n",
       "    <tr>\n",
       "      <th>Total de vendas</th>\n",
       "      <td>144.9565</td>\n",
       "    </tr>\n",
       "    <tr>\n",
       "      <th>Lucro</th>\n",
       "      <td>64.929253</td>\n",
       "    </tr>\n",
       "  </tbody>\n",
       "</table>\n",
       "</div>"
      ],
      "text/plain": [
       "                      2021\n",
       "Total de vendas   144.9565\n",
       "Lucro            64.929253"
      ]
     },
     "execution_count": 7,
     "metadata": {},
     "output_type": "execute_result"
    }
   ],
   "source": [
    "declaracao2021.calculaRendimentos('lucro_isento_no_ano')"
   ]
  },
  {
   "cell_type": "markdown",
   "id": "4ee2c465",
   "metadata": {},
   "source": [
    "### PREJUÍZO POR MÊS"
   ]
  },
  {
   "cell_type": "code",
   "execution_count": 8,
   "id": "b05196f2",
   "metadata": {},
   "outputs": [
    {
     "data": {
      "text/html": [
       "<div>\n",
       "<style scoped>\n",
       "    .dataframe tbody tr th:only-of-type {\n",
       "        vertical-align: middle;\n",
       "    }\n",
       "\n",
       "    .dataframe tbody tr th {\n",
       "        vertical-align: top;\n",
       "    }\n",
       "\n",
       "    .dataframe thead th {\n",
       "        text-align: right;\n",
       "    }\n",
       "</style>\n",
       "<table border=\"1\" class=\"dataframe\">\n",
       "  <thead>\n",
       "    <tr style=\"text-align: right;\">\n",
       "      <th></th>\n",
       "      <th>Total de vendas</th>\n",
       "      <th>Prejuizo</th>\n",
       "    </tr>\n",
       "    <tr>\n",
       "      <th>Mês</th>\n",
       "      <th></th>\n",
       "      <th></th>\n",
       "    </tr>\n",
       "  </thead>\n",
       "  <tbody>\n",
       "    <tr>\n",
       "      <th>6</th>\n",
       "      <td>24.9925</td>\n",
       "      <td>-25.021249</td>\n",
       "    </tr>\n",
       "    <tr>\n",
       "      <th>7</th>\n",
       "      <td>75.9772</td>\n",
       "      <td>-44.056597</td>\n",
       "    </tr>\n",
       "  </tbody>\n",
       "</table>\n",
       "</div>"
      ],
      "text/plain": [
       "     Total de vendas   Prejuizo\n",
       "Mês                            \n",
       "6            24.9925 -25.021249\n",
       "7            75.9772 -44.056597"
      ]
     },
     "execution_count": 8,
     "metadata": {},
     "output_type": "execute_result"
    }
   ],
   "source": [
    "declaracao2021.calculaRendimentos('prejuizo')"
   ]
  },
  {
   "cell_type": "markdown",
   "id": "cca42614",
   "metadata": {},
   "source": [
    "# PROVENTOS"
   ]
  },
  {
   "cell_type": "markdown",
   "id": "f1415df3",
   "metadata": {},
   "source": [
    "## Dividendos\n",
    "#### Rendimentos Isentos e Não Tributáveis\n",
    "\n",
    "- CNPJ, Nome da Fonte Pagadora (empresa), valor"
   ]
  },
  {
   "cell_type": "code",
   "execution_count": 9,
   "id": "f71b4df3",
   "metadata": {},
   "outputs": [
    {
     "data": {
      "text/html": [
       "<div>\n",
       "<style scoped>\n",
       "    .dataframe tbody tr th:only-of-type {\n",
       "        vertical-align: middle;\n",
       "    }\n",
       "\n",
       "    .dataframe tbody tr th {\n",
       "        vertical-align: top;\n",
       "    }\n",
       "\n",
       "    .dataframe thead th {\n",
       "        text-align: right;\n",
       "    }\n",
       "</style>\n",
       "<table border=\"1\" class=\"dataframe\">\n",
       "  <thead>\n",
       "    <tr style=\"text-align: right;\">\n",
       "      <th></th>\n",
       "      <th>Código de Negociação</th>\n",
       "      <th>Valor</th>\n",
       "      <th>Denominação social</th>\n",
       "      <th>CNPJ</th>\n",
       "    </tr>\n",
       "  </thead>\n",
       "  <tbody>\n",
       "    <tr>\n",
       "      <th>0</th>\n",
       "      <td>ELET3</td>\n",
       "      <td>10.5</td>\n",
       "      <td>CENTRAIS ELET BRAS S.A. – ELETROBRAS</td>\n",
       "      <td>00.001.180/0001-26</td>\n",
       "    </tr>\n",
       "    <tr>\n",
       "      <th>1</th>\n",
       "      <td>SANB11</td>\n",
       "      <td>8.0</td>\n",
       "      <td>BCO SANTANDER (BRASIL) S.A.</td>\n",
       "      <td>90.400.888/0001-42</td>\n",
       "    </tr>\n",
       "  </tbody>\n",
       "</table>\n",
       "</div>"
      ],
      "text/plain": [
       "  Código de Negociação  Valor                    Denominação social  \\\n",
       "0                ELET3   10.5  CENTRAIS ELET BRAS S.A. – ELETROBRAS   \n",
       "1               SANB11    8.0           BCO SANTANDER (BRASIL) S.A.   \n",
       "\n",
       "                 CNPJ  \n",
       "0  00.001.180/0001-26  \n",
       "1  90.400.888/0001-42  "
      ]
     },
     "execution_count": 9,
     "metadata": {},
     "output_type": "execute_result"
    }
   ],
   "source": [
    "declaracao2021.somaProventos('dividendo')"
   ]
  },
  {
   "cell_type": "markdown",
   "id": "efa4ce6d",
   "metadata": {},
   "source": [
    "## Juros Sobre Capital Próprio\n",
    "#### Rendimentos Sujeito a Tributação Exclusiva\n",
    "\n",
    "- CNPJ, Nome da Fonte Pagadora (empresa), valor"
   ]
  },
  {
   "cell_type": "code",
   "execution_count": 10,
   "id": "2136c942",
   "metadata": {},
   "outputs": [
    {
     "data": {
      "text/html": [
       "<div>\n",
       "<style scoped>\n",
       "    .dataframe tbody tr th:only-of-type {\n",
       "        vertical-align: middle;\n",
       "    }\n",
       "\n",
       "    .dataframe tbody tr th {\n",
       "        vertical-align: top;\n",
       "    }\n",
       "\n",
       "    .dataframe thead th {\n",
       "        text-align: right;\n",
       "    }\n",
       "</style>\n",
       "<table border=\"1\" class=\"dataframe\">\n",
       "  <thead>\n",
       "    <tr style=\"text-align: right;\">\n",
       "      <th></th>\n",
       "      <th>Código de Negociação</th>\n",
       "      <th>Valor</th>\n",
       "      <th>Denominação social</th>\n",
       "      <th>CNPJ</th>\n",
       "    </tr>\n",
       "  </thead>\n",
       "  <tbody>\n",
       "    <tr>\n",
       "      <th>2</th>\n",
       "      <td>SANB11</td>\n",
       "      <td>1.0</td>\n",
       "      <td>BCO SANTANDER (BRASIL) S.A.</td>\n",
       "      <td>90.400.888/0001-42</td>\n",
       "    </tr>\n",
       "    <tr>\n",
       "      <th>3</th>\n",
       "      <td>TOTS3</td>\n",
       "      <td>4.5</td>\n",
       "      <td>TOTVS S.A.</td>\n",
       "      <td>53.113.791/0001-22</td>\n",
       "    </tr>\n",
       "  </tbody>\n",
       "</table>\n",
       "</div>"
      ],
      "text/plain": [
       "  Código de Negociação  Valor           Denominação social                CNPJ\n",
       "2               SANB11    1.0  BCO SANTANDER (BRASIL) S.A.  90.400.888/0001-42\n",
       "3                TOTS3    4.5                   TOTVS S.A.  53.113.791/0001-22"
      ]
     },
     "execution_count": 10,
     "metadata": {},
     "output_type": "execute_result"
    }
   ],
   "source": [
    "declaracao2021.somaProventos('jcp')"
   ]
  }
 ],
 "metadata": {
  "kernelspec": {
   "display_name": "Python 3 (ipykernel)",
   "language": "python",
   "name": "python3"
  },
  "language_info": {
   "codemirror_mode": {
    "name": "ipython",
    "version": 3
   },
   "file_extension": ".py",
   "mimetype": "text/x-python",
   "name": "python",
   "nbconvert_exporter": "python",
   "pygments_lexer": "ipython3",
   "version": "3.9.12"
  }
 },
 "nbformat": 4,
 "nbformat_minor": 5
}
